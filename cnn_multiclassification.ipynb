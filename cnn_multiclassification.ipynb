{
 "cells": [
  {
   "cell_type": "code",
   "execution_count": 162,
   "metadata": {},
   "outputs": [],
   "source": [
    "import pandas as pd\n",
    "import cv2\n",
    "import matplotlib.pyplot as plt\n",
    "import tensorflow as tf\n",
    "from tensorflow import keras\n",
    "from tensorflow.keras import datasets,layers,models\n",
    "import numpy as np\n",
    "from os import listdir\n",
    "from sklearn.model_selection  import train_test_split\n",
    "\n",
    "\n",
    "\n",
    "\n"
   ]
  },
  {
   "cell_type": "code",
   "execution_count": 163,
   "metadata": {},
   "outputs": [],
   "source": [
    "dataset_path='D:\\\\upwork\\\\Convolution Neural Network for multi-classification\\\\PBC_dataset_normal_DIB\\\\'\n",
    "model_path='D:\\\\upwork\\\\Convolution Neural Network for multi-classification\\\\cnn_multiclassification'\n"
   ]
  },
  {
   "cell_type": "code",
   "execution_count": 164,
   "metadata": {},
   "outputs": [],
   "source": [
    "classes=['basophil','eosinophil','erythroblast','lymphocyte','monocyte','neutrophil']"
   ]
  },
  {
   "cell_type": "code",
   "execution_count": 108,
   "metadata": {},
   "outputs": [],
   "source": [
    "def mobilnet_processsing(img):\n",
    "    \n",
    "    img=cv2.resize(img,(224,224))\n",
    "    img=keras.applications.mobilenet.preprocess_input(img)\n",
    "    return img\n",
    "\n",
    "\n",
    "    "
   ]
  },
  {
   "cell_type": "code",
   "execution_count": 8,
   "metadata": {},
   "outputs": [],
   "source": [
    "lst1=[]\n",
    "lst2=[]\n",
    "lst3=[]\n",
    "for i in listdir(dataset_path):\n",
    "    for j in listdir(dataset_path+i+'\\\\'):\n",
    "        lst1.append(mobilnet_processsing((cv2.imread(dataset_path+i+'\\\\'+j))))\n",
    "        lst2.append(j)\n",
    "        lst3.append(i)\n",
    "        \n",
    "for i in range(0,len(lst3)):\n",
    "    if lst3[i]=='basophil':\n",
    "        lst3[i]=0\n",
    "    elif lst3[i]=='eosinophil':\n",
    "        lst3[i]=1\n",
    "    elif lst3[i]=='erythroblast':\n",
    "        lst3[i]=2\n",
    "    elif lst3[i]=='lymphocyte':\n",
    "        lst3[i]=3\n",
    "    elif lst3[i]=='monocyte':\n",
    "        lst3[i]=4\n",
    "    elif lst3[i]=='neutrophil':\n",
    "        lst3[i]=5\n",
    "    else:\n",
    "        print('error')\n",
    "    \n",
    "        "
   ]
  },
  {
   "cell_type": "code",
   "execution_count": 12,
   "metadata": {},
   "outputs": [],
   "source": [
    "x_train, X, y_train, Y = train_test_split(np.array(lst1), np.array(lst3), test_size=0.4)\n",
    "x_val, x_test, y_val,y_test = train_test_split(X,Y, test_size=0.5)\n",
    "y_train=tf.keras.utils.to_categorical(y_train, num_classes=6)\n",
    "y_val=tf.keras.utils.to_categorical(y_val, num_classes=6)\n",
    "y_test=tf.keras.utils.to_categorical(y_test,num_classes=6)\n"
   ]
  },
  {
   "cell_type": "code",
   "execution_count": 60,
   "metadata": {},
   "outputs": [
    {
     "data": {
      "text/plain": [
       "array([3, 0, 0, ..., 3, 1, 5], dtype=int64)"
      ]
     },
     "execution_count": 60,
     "metadata": {},
     "output_type": "execute_result"
    }
   ],
   "source": [
    "np.argmax(y_train,axis=1)"
   ]
  },
  {
   "cell_type": "code",
   "execution_count": 50,
   "metadata": {},
   "outputs": [],
   "source": [
    "'''\n",
    "\n",
    "cnn=models.Sequential([\n",
    "    #cnn\n",
    "    layers.Conv2D(filters=32,kernel_size=(3,3),activation='relu',input_shape=(224,224,3)),\n",
    "    layers.MaxPooling2D((2,2)),\n",
    "    layers.Conv2D(filters=64,kernel_size=(3,3),activation='relu'),\n",
    "    layers.MaxPooling2D((2,2)),\n",
    "    #dense\n",
    "    layers.Flatten(),\n",
    "    layers.Dense(64,activation='relu'),\n",
    "    layers.Dense(6,activation='softmax')\n",
    "    \n",
    "])\n",
    "cnn.compile(optimizer='adam',\n",
    "            loss='categorical_crossentropy',\n",
    "            metrics=['accuracy'])\n",
    "\n",
    "'''"
   ]
  },
  {
   "cell_type": "code",
   "execution_count": 51,
   "metadata": {},
   "outputs": [
    {
     "name": "stdout",
     "output_type": "stream",
     "text": [
      "Epoch 1/5\n",
      "180/180 [==============================] - 216s 1s/step - loss: 1.0139 - accuracy: 0.7234 - val_loss: 0.2939 - val_accuracy: 0.9124\n",
      "Epoch 2/5\n",
      "180/180 [==============================] - 207s 1s/step - loss: 0.2020 - accuracy: 0.9339 - val_loss: 0.3282 - val_accuracy: 0.9056\n",
      "Epoch 3/5\n",
      "180/180 [==============================] - 204s 1s/step - loss: 0.0926 - accuracy: 0.9718 - val_loss: 0.1608 - val_accuracy: 0.9510\n",
      "Epoch 4/5\n",
      "180/180 [==============================] - 210s 1s/step - loss: 0.0503 - accuracy: 0.9852 - val_loss: 0.1792 - val_accuracy: 0.9551\n",
      "Epoch 5/5\n",
      "180/180 [==============================] - 207s 1s/step - loss: 0.0305 - accuracy: 0.9915 - val_loss: 0.1779 - val_accuracy: 0.9525\n"
     ]
    },
    {
     "data": {
      "text/plain": [
       "<keras.callbacks.History at 0x2bd7492d730>"
      ]
     },
     "execution_count": 51,
     "metadata": {},
     "output_type": "execute_result"
    }
   ],
   "source": [
    "#cnn.fit(x_train,y_train,validation_data = (x_val, y_val),epochs=5)"
   ]
  },
  {
   "cell_type": "code",
   "execution_count": 16,
   "metadata": {},
   "outputs": [],
   "source": [
    "cnn=tf.keras.models.load_model(model_path)"
   ]
  },
  {
   "cell_type": "code",
   "execution_count": 21,
   "metadata": {},
   "outputs": [
    {
     "name": "stdout",
     "output_type": "stream",
     "text": [
      "60/60 [==============================] - 33s 336ms/step - loss: 0.0720 - accuracy: 0.9791\n"
     ]
    },
    {
     "data": {
      "text/plain": [
       "[0.07195995002985, 0.9791340827941895]"
      ]
     },
     "execution_count": 21,
     "metadata": {},
     "output_type": "execute_result"
    }
   ],
   "source": [
    "cnn.evaluate(x_test,y_test)"
   ]
  },
  {
   "cell_type": "code",
   "execution_count": 158,
   "metadata": {},
   "outputs": [],
   "source": [
    "def predict(img_path):\n",
    "    img=cv2.imread(img_path)\n",
    "    img=mobilnet_processsing(img)\n",
    "    img=np.expand_dims(img, axis=0)\n",
    "    x=np.argmax(cnn.predict(img))\n",
    "    return classes[x]\n",
    "    \n",
    "\n"
   ]
  },
  {
   "cell_type": "code",
   "execution_count": 156,
   "metadata": {},
   "outputs": [],
   "source": [
    "sample_image_path='D:\\\\upwork\\\\Convolution Neural Network for multi-classification\\\\PBC_dataset_normal_DIB\\\\lymphocyte\\\\Lymphocyte7.jpg'"
   ]
  },
  {
   "cell_type": "code",
   "execution_count": 159,
   "metadata": {},
   "outputs": [
    {
     "data": {
      "text/plain": [
       "'lymphocyte'"
      ]
     },
     "execution_count": 159,
     "metadata": {},
     "output_type": "execute_result"
    }
   ],
   "source": [
    "predict(sample_image_path)"
   ]
  },
  {
   "cell_type": "code",
   "execution_count": 160,
   "metadata": {},
   "outputs": [],
   "source": [
    "sample_image_path2='D:\\\\upwork\\\\Convolution Neural Network for multi-classification\\\\PBC_dataset_normal_DIB\\\\neutrophil\\\\Neutrophil40.jpg'"
   ]
  },
  {
   "cell_type": "code",
   "execution_count": 161,
   "metadata": {},
   "outputs": [
    {
     "data": {
      "text/plain": [
       "'neutrophil'"
      ]
     },
     "execution_count": 161,
     "metadata": {},
     "output_type": "execute_result"
    }
   ],
   "source": [
    "predict(sample_image_path2)"
   ]
  }
 ],
 "metadata": {
  "kernelspec": {
   "display_name": "Python 3",
   "language": "python",
   "name": "python3"
  },
  "language_info": {
   "codemirror_mode": {
    "name": "ipython",
    "version": 3
   },
   "file_extension": ".py",
   "mimetype": "text/x-python",
   "name": "python",
   "nbconvert_exporter": "python",
   "pygments_lexer": "ipython3",
   "version": "3.8.5"
  }
 },
 "nbformat": 4,
 "nbformat_minor": 4
}
